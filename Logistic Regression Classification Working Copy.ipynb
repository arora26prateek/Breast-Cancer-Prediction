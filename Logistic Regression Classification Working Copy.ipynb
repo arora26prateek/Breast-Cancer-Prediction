{
 "cells": [
  {
   "cell_type": "markdown",
   "metadata": {
    "id": "Z-jZGC0q0aiY"
   },
   "source": [
    "# Logistic Regression"
   ]
  },
  {
   "cell_type": "markdown",
   "metadata": {
    "id": "jE4Rc_OO0eJM"
   },
   "source": [
    "## Importing libraries"
   ]
  },
  {
   "cell_type": "code",
   "execution_count": null,
   "metadata": {
    "executionInfo": {
     "elapsed": 1084,
     "status": "ok",
     "timestamp": 1611920039404,
     "user": {
      "displayName": "Atulya Kaushik",
      "photoUrl": "https://lh3.googleusercontent.com/a-/AOh14GgJkgy4Bbyh6arJa9CTRxz_VW016iaBII_pm7woImQLGsFVhFb88slIrgpJtXqRrw6TkLosF9dmZkipTOappiUuEZfqBbADXDON4yRObQtr7MT6aP_VbVd_pun7X1-Kipezf2z4Vuzl6eFdyx9-UPts8n7nPTB2kzh6w8nDzGg0oHS84ZfVOskEZUXjAbx2dcVhwqEZ3_ofpn-lM7QlZaYn5fP0q-bqfXxWmfgA3niEWNj3gwrzSLyTLKIMhpSkSJD_zenplz12DgqathMhR5iD2hX-6KVusqHvKvYRKaWF7qvsIDFZgc1vCyaAgCbhnORw5--xLCDRp7D1V2_QimRQILaTCd9yuT7hPA4QfEZ0L3E3WI6Kc8_HQrf0MjLccL3UO1KBXeKFMMg8HSvQ4Ln-rw94wsh9hcNHaQNsQKvq_55DLGeHD-6AwgU3-bXllT-ZHeLiiIIwy2_Cn0QRmMB8CfhYAv1wHMDTu4hKFvsAmuK2Bku0Gbsspcyeqh2J772soaZspv6PJivRNYqDTbNaipc2CFNLu7r4_PL4trqGuiQtOa-U_gMXkd4u7B3it1tqyaYWHj8BI7sBpz_eiaU0YRXiHRg2fkrDEYw_ACWBH2kUujgSq1vdBUMKrAS5Re0xTK0KxYUqsrmypwIh7qYZXdzH1zzpIbc86oAtk_SxmVm23oE_NUAFE5p0z2DuSAn8cId2qv3l8jaEfgQRoGknMpQqKD22xwITAW5XhXb744vPQcvgtP5zdDhuLh7Npz-UUQ=s64",
      "userId": "16390917540151948122"
     },
     "user_tz": -330
    },
    "id": "MYqQ1SvW5H8S"
   },
   "outputs": [],
   "source": [
    "import numpy as np\n",
    "import matplotlib.pyplot as plt\n",
    "import pandas as pd"
   ]
  },
  {
   "cell_type": "markdown",
   "metadata": {
    "id": "A9-xGHd20gY1"
   },
   "source": [
    "## Importing dataset"
   ]
  },
  {
   "cell_type": "code",
   "execution_count": null,
   "metadata": {
    "executionInfo": {
     "elapsed": 1147,
     "status": "ok",
     "timestamp": 1611920042273,
     "user": {
      "displayName": "Atulya Kaushik",
      "photoUrl": "https://lh3.googleusercontent.com/a-/AOh14GgJkgy4Bbyh6arJa9CTRxz_VW016iaBII_pm7woImQLGsFVhFb88slIrgpJtXqRrw6TkLosF9dmZkipTOappiUuEZfqBbADXDON4yRObQtr7MT6aP_VbVd_pun7X1-Kipezf2z4Vuzl6eFdyx9-UPts8n7nPTB2kzh6w8nDzGg0oHS84ZfVOskEZUXjAbx2dcVhwqEZ3_ofpn-lM7QlZaYn5fP0q-bqfXxWmfgA3niEWNj3gwrzSLyTLKIMhpSkSJD_zenplz12DgqathMhR5iD2hX-6KVusqHvKvYRKaWF7qvsIDFZgc1vCyaAgCbhnORw5--xLCDRp7D1V2_QimRQILaTCd9yuT7hPA4QfEZ0L3E3WI6Kc8_HQrf0MjLccL3UO1KBXeKFMMg8HSvQ4Ln-rw94wsh9hcNHaQNsQKvq_55DLGeHD-6AwgU3-bXllT-ZHeLiiIIwy2_Cn0QRmMB8CfhYAv1wHMDTu4hKFvsAmuK2Bku0Gbsspcyeqh2J772soaZspv6PJivRNYqDTbNaipc2CFNLu7r4_PL4trqGuiQtOa-U_gMXkd4u7B3it1tqyaYWHj8BI7sBpz_eiaU0YRXiHRg2fkrDEYw_ACWBH2kUujgSq1vdBUMKrAS5Re0xTK0KxYUqsrmypwIh7qYZXdzH1zzpIbc86oAtk_SxmVm23oE_NUAFE5p0z2DuSAn8cId2qv3l8jaEfgQRoGknMpQqKD22xwITAW5XhXb744vPQcvgtP5zdDhuLh7Npz-UUQ=s64",
      "userId": "16390917540151948122"
     },
     "user_tz": -330
    },
    "id": "BrJ7tHx35byF"
   },
   "outputs": [],
   "source": [
    "dataset = pd.read_excel('brestcan.xlsx')\n",
    "X = dataset.iloc[:, :-1].values\n",
    "y = dataset.iloc[:, -1].values"
   ]
  },
  {
   "cell_type": "code",
   "execution_count": null,
   "metadata": {
    "colab": {
     "base_uri": "https://localhost:8080/"
    },
    "executionInfo": {
     "elapsed": 808,
     "status": "ok",
     "timestamp": 1611920054964,
     "user": {
      "displayName": "Atulya Kaushik",
      "photoUrl": "https://lh3.googleusercontent.com/a-/AOh14GgJkgy4Bbyh6arJa9CTRxz_VW016iaBII_pm7woImQLGsFVhFb88slIrgpJtXqRrw6TkLosF9dmZkipTOappiUuEZfqBbADXDON4yRObQtr7MT6aP_VbVd_pun7X1-Kipezf2z4Vuzl6eFdyx9-UPts8n7nPTB2kzh6w8nDzGg0oHS84ZfVOskEZUXjAbx2dcVhwqEZ3_ofpn-lM7QlZaYn5fP0q-bqfXxWmfgA3niEWNj3gwrzSLyTLKIMhpSkSJD_zenplz12DgqathMhR5iD2hX-6KVusqHvKvYRKaWF7qvsIDFZgc1vCyaAgCbhnORw5--xLCDRp7D1V2_QimRQILaTCd9yuT7hPA4QfEZ0L3E3WI6Kc8_HQrf0MjLccL3UO1KBXeKFMMg8HSvQ4Ln-rw94wsh9hcNHaQNsQKvq_55DLGeHD-6AwgU3-bXllT-ZHeLiiIIwy2_Cn0QRmMB8CfhYAv1wHMDTu4hKFvsAmuK2Bku0Gbsspcyeqh2J772soaZspv6PJivRNYqDTbNaipc2CFNLu7r4_PL4trqGuiQtOa-U_gMXkd4u7B3it1tqyaYWHj8BI7sBpz_eiaU0YRXiHRg2fkrDEYw_ACWBH2kUujgSq1vdBUMKrAS5Re0xTK0KxYUqsrmypwIh7qYZXdzH1zzpIbc86oAtk_SxmVm23oE_NUAFE5p0z2DuSAn8cId2qv3l8jaEfgQRoGknMpQqKD22xwITAW5XhXb744vPQcvgtP5zdDhuLh7Npz-UUQ=s64",
      "userId": "16390917540151948122"
     },
     "user_tz": -330
    },
    "id": "1pO0dweO7AJc",
    "outputId": "bd6ad777-d9ad-4fd3-c2a2-693c7c99f5e9"
   },
   "outputs": [],
   "source": [
    "print(X)"
   ]
  },
  {
   "cell_type": "code",
   "execution_count": null,
   "metadata": {
    "colab": {
     "base_uri": "https://localhost:8080/"
    },
    "executionInfo": {
     "elapsed": 1066,
     "status": "ok",
     "timestamp": 1611920065616,
     "user": {
      "displayName": "Atulya Kaushik",
      "photoUrl": "https://lh3.googleusercontent.com/a-/AOh14GgJkgy4Bbyh6arJa9CTRxz_VW016iaBII_pm7woImQLGsFVhFb88slIrgpJtXqRrw6TkLosF9dmZkipTOappiUuEZfqBbADXDON4yRObQtr7MT6aP_VbVd_pun7X1-Kipezf2z4Vuzl6eFdyx9-UPts8n7nPTB2kzh6w8nDzGg0oHS84ZfVOskEZUXjAbx2dcVhwqEZ3_ofpn-lM7QlZaYn5fP0q-bqfXxWmfgA3niEWNj3gwrzSLyTLKIMhpSkSJD_zenplz12DgqathMhR5iD2hX-6KVusqHvKvYRKaWF7qvsIDFZgc1vCyaAgCbhnORw5--xLCDRp7D1V2_QimRQILaTCd9yuT7hPA4QfEZ0L3E3WI6Kc8_HQrf0MjLccL3UO1KBXeKFMMg8HSvQ4Ln-rw94wsh9hcNHaQNsQKvq_55DLGeHD-6AwgU3-bXllT-ZHeLiiIIwy2_Cn0QRmMB8CfhYAv1wHMDTu4hKFvsAmuK2Bku0Gbsspcyeqh2J772soaZspv6PJivRNYqDTbNaipc2CFNLu7r4_PL4trqGuiQtOa-U_gMXkd4u7B3it1tqyaYWHj8BI7sBpz_eiaU0YRXiHRg2fkrDEYw_ACWBH2kUujgSq1vdBUMKrAS5Re0xTK0KxYUqsrmypwIh7qYZXdzH1zzpIbc86oAtk_SxmVm23oE_NUAFE5p0z2DuSAn8cId2qv3l8jaEfgQRoGknMpQqKD22xwITAW5XhXb744vPQcvgtP5zdDhuLh7Npz-UUQ=s64",
      "userId": "16390917540151948122"
     },
     "user_tz": -330
    },
    "id": "nmcJCeqo7Cw1",
    "outputId": "16570f8b-57bd-4a6d-b24a-886b79eeb373"
   },
   "outputs": [],
   "source": [
    "print(y)"
   ]
  },
  {
   "cell_type": "markdown",
   "metadata": {
    "id": "8REFJFGC0lRN"
   },
   "source": [
    "## Splitting the dataset into Training & Test set"
   ]
  },
  {
   "cell_type": "code",
   "execution_count": null,
   "metadata": {
    "executionInfo": {
     "elapsed": 2219,
     "status": "ok",
     "timestamp": 1611920072334,
     "user": {
      "displayName": "Atulya Kaushik",
      "photoUrl": "https://lh3.googleusercontent.com/a-/AOh14GgJkgy4Bbyh6arJa9CTRxz_VW016iaBII_pm7woImQLGsFVhFb88slIrgpJtXqRrw6TkLosF9dmZkipTOappiUuEZfqBbADXDON4yRObQtr7MT6aP_VbVd_pun7X1-Kipezf2z4Vuzl6eFdyx9-UPts8n7nPTB2kzh6w8nDzGg0oHS84ZfVOskEZUXjAbx2dcVhwqEZ3_ofpn-lM7QlZaYn5fP0q-bqfXxWmfgA3niEWNj3gwrzSLyTLKIMhpSkSJD_zenplz12DgqathMhR5iD2hX-6KVusqHvKvYRKaWF7qvsIDFZgc1vCyaAgCbhnORw5--xLCDRp7D1V2_QimRQILaTCd9yuT7hPA4QfEZ0L3E3WI6Kc8_HQrf0MjLccL3UO1KBXeKFMMg8HSvQ4Ln-rw94wsh9hcNHaQNsQKvq_55DLGeHD-6AwgU3-bXllT-ZHeLiiIIwy2_Cn0QRmMB8CfhYAv1wHMDTu4hKFvsAmuK2Bku0Gbsspcyeqh2J772soaZspv6PJivRNYqDTbNaipc2CFNLu7r4_PL4trqGuiQtOa-U_gMXkd4u7B3it1tqyaYWHj8BI7sBpz_eiaU0YRXiHRg2fkrDEYw_ACWBH2kUujgSq1vdBUMKrAS5Re0xTK0KxYUqsrmypwIh7qYZXdzH1zzpIbc86oAtk_SxmVm23oE_NUAFE5p0z2DuSAn8cId2qv3l8jaEfgQRoGknMpQqKD22xwITAW5XhXb744vPQcvgtP5zdDhuLh7Npz-UUQ=s64",
      "userId": "16390917540151948122"
     },
     "user_tz": -330
    },
    "id": "VPHdMFeu5m1Q"
   },
   "outputs": [],
   "source": [
    "from sklearn.model_selection import train_test_split\n",
    "X_train, X_test, y_train, y_test = train_test_split(X, y, test_size = 0.2, random_state = 42)"
   ]
  },
  {
   "cell_type": "markdown",
   "metadata": {
    "id": "-Dw4Khi70u9g"
   },
   "source": [
    "## Feature Scaling"
   ]
  },
  {
   "cell_type": "code",
   "execution_count": null,
   "metadata": {
    "executionInfo": {
     "elapsed": 1201,
     "status": "ok",
     "timestamp": 1611920097485,
     "user": {
      "displayName": "Atulya Kaushik",
      "photoUrl": "https://lh3.googleusercontent.com/a-/AOh14GgJkgy4Bbyh6arJa9CTRxz_VW016iaBII_pm7woImQLGsFVhFb88slIrgpJtXqRrw6TkLosF9dmZkipTOappiUuEZfqBbADXDON4yRObQtr7MT6aP_VbVd_pun7X1-Kipezf2z4Vuzl6eFdyx9-UPts8n7nPTB2kzh6w8nDzGg0oHS84ZfVOskEZUXjAbx2dcVhwqEZ3_ofpn-lM7QlZaYn5fP0q-bqfXxWmfgA3niEWNj3gwrzSLyTLKIMhpSkSJD_zenplz12DgqathMhR5iD2hX-6KVusqHvKvYRKaWF7qvsIDFZgc1vCyaAgCbhnORw5--xLCDRp7D1V2_QimRQILaTCd9yuT7hPA4QfEZ0L3E3WI6Kc8_HQrf0MjLccL3UO1KBXeKFMMg8HSvQ4Ln-rw94wsh9hcNHaQNsQKvq_55DLGeHD-6AwgU3-bXllT-ZHeLiiIIwy2_Cn0QRmMB8CfhYAv1wHMDTu4hKFvsAmuK2Bku0Gbsspcyeqh2J772soaZspv6PJivRNYqDTbNaipc2CFNLu7r4_PL4trqGuiQtOa-U_gMXkd4u7B3it1tqyaYWHj8BI7sBpz_eiaU0YRXiHRg2fkrDEYw_ACWBH2kUujgSq1vdBUMKrAS5Re0xTK0KxYUqsrmypwIh7qYZXdzH1zzpIbc86oAtk_SxmVm23oE_NUAFE5p0z2DuSAn8cId2qv3l8jaEfgQRoGknMpQqKD22xwITAW5XhXb744vPQcvgtP5zdDhuLh7Npz-UUQ=s64",
      "userId": "16390917540151948122"
     },
     "user_tz": -330
    },
    "id": "WqIAPFcJ5unZ"
   },
   "outputs": [],
   "source": [
    "from sklearn.preprocessing import StandardScaler\n",
    "sc = StandardScaler()\n",
    "X_train = sc.fit_transform(X_train)\n",
    "X_test = sc.transform(X_test)"
   ]
  },
  {
   "cell_type": "code",
   "execution_count": null,
   "metadata": {
    "colab": {
     "base_uri": "https://localhost:8080/"
    },
    "executionInfo": {
     "elapsed": 1102,
     "status": "ok",
     "timestamp": 1611920105303,
     "user": {
      "displayName": "Atulya Kaushik",
      "photoUrl": "https://lh3.googleusercontent.com/a-/AOh14GgJkgy4Bbyh6arJa9CTRxz_VW016iaBII_pm7woImQLGsFVhFb88slIrgpJtXqRrw6TkLosF9dmZkipTOappiUuEZfqBbADXDON4yRObQtr7MT6aP_VbVd_pun7X1-Kipezf2z4Vuzl6eFdyx9-UPts8n7nPTB2kzh6w8nDzGg0oHS84ZfVOskEZUXjAbx2dcVhwqEZ3_ofpn-lM7QlZaYn5fP0q-bqfXxWmfgA3niEWNj3gwrzSLyTLKIMhpSkSJD_zenplz12DgqathMhR5iD2hX-6KVusqHvKvYRKaWF7qvsIDFZgc1vCyaAgCbhnORw5--xLCDRp7D1V2_QimRQILaTCd9yuT7hPA4QfEZ0L3E3WI6Kc8_HQrf0MjLccL3UO1KBXeKFMMg8HSvQ4Ln-rw94wsh9hcNHaQNsQKvq_55DLGeHD-6AwgU3-bXllT-ZHeLiiIIwy2_Cn0QRmMB8CfhYAv1wHMDTu4hKFvsAmuK2Bku0Gbsspcyeqh2J772soaZspv6PJivRNYqDTbNaipc2CFNLu7r4_PL4trqGuiQtOa-U_gMXkd4u7B3it1tqyaYWHj8BI7sBpz_eiaU0YRXiHRg2fkrDEYw_ACWBH2kUujgSq1vdBUMKrAS5Re0xTK0KxYUqsrmypwIh7qYZXdzH1zzpIbc86oAtk_SxmVm23oE_NUAFE5p0z2DuSAn8cId2qv3l8jaEfgQRoGknMpQqKD22xwITAW5XhXb744vPQcvgtP5zdDhuLh7Npz-UUQ=s64",
      "userId": "16390917540151948122"
     },
     "user_tz": -330
    },
    "id": "MLwbIJ6B7MLa",
    "outputId": "ae0a5a39-692c-4852-acd8-2880c51a8e0b"
   },
   "outputs": [],
   "source": [
    "print(X_train)"
   ]
  },
  {
   "cell_type": "code",
   "execution_count": null,
   "metadata": {
    "colab": {
     "base_uri": "https://localhost:8080/"
    },
    "executionInfo": {
     "elapsed": 1085,
     "status": "ok",
     "timestamp": 1611920124186,
     "user": {
      "displayName": "Atulya Kaushik",
      "photoUrl": "https://lh3.googleusercontent.com/a-/AOh14GgJkgy4Bbyh6arJa9CTRxz_VW016iaBII_pm7woImQLGsFVhFb88slIrgpJtXqRrw6TkLosF9dmZkipTOappiUuEZfqBbADXDON4yRObQtr7MT6aP_VbVd_pun7X1-Kipezf2z4Vuzl6eFdyx9-UPts8n7nPTB2kzh6w8nDzGg0oHS84ZfVOskEZUXjAbx2dcVhwqEZ3_ofpn-lM7QlZaYn5fP0q-bqfXxWmfgA3niEWNj3gwrzSLyTLKIMhpSkSJD_zenplz12DgqathMhR5iD2hX-6KVusqHvKvYRKaWF7qvsIDFZgc1vCyaAgCbhnORw5--xLCDRp7D1V2_QimRQILaTCd9yuT7hPA4QfEZ0L3E3WI6Kc8_HQrf0MjLccL3UO1KBXeKFMMg8HSvQ4Ln-rw94wsh9hcNHaQNsQKvq_55DLGeHD-6AwgU3-bXllT-ZHeLiiIIwy2_Cn0QRmMB8CfhYAv1wHMDTu4hKFvsAmuK2Bku0Gbsspcyeqh2J772soaZspv6PJivRNYqDTbNaipc2CFNLu7r4_PL4trqGuiQtOa-U_gMXkd4u7B3it1tqyaYWHj8BI7sBpz_eiaU0YRXiHRg2fkrDEYw_ACWBH2kUujgSq1vdBUMKrAS5Re0xTK0KxYUqsrmypwIh7qYZXdzH1zzpIbc86oAtk_SxmVm23oE_NUAFE5p0z2DuSAn8cId2qv3l8jaEfgQRoGknMpQqKD22xwITAW5XhXb744vPQcvgtP5zdDhuLh7Npz-UUQ=s64",
      "userId": "16390917540151948122"
     },
     "user_tz": -330
    },
    "id": "CZbekAzM7PE3",
    "outputId": "643b2111-412c-4986-e946-063fcc376e9a"
   },
   "outputs": [],
   "source": [
    "print(X_test)"
   ]
  },
  {
   "cell_type": "markdown",
   "metadata": {
    "id": "2QUFYaoH00H6"
   },
   "source": [
    "## Logistic Regression Training on Training set"
   ]
  },
  {
   "cell_type": "code",
   "execution_count": null,
   "metadata": {
    "colab": {
     "base_uri": "https://localhost:8080/"
    },
    "executionInfo": {
     "elapsed": 1557,
     "status": "ok",
     "timestamp": 1611920184472,
     "user": {
      "displayName": "Atulya Kaushik",
      "photoUrl": "https://lh3.googleusercontent.com/a-/AOh14GgJkgy4Bbyh6arJa9CTRxz_VW016iaBII_pm7woImQLGsFVhFb88slIrgpJtXqRrw6TkLosF9dmZkipTOappiUuEZfqBbADXDON4yRObQtr7MT6aP_VbVd_pun7X1-Kipezf2z4Vuzl6eFdyx9-UPts8n7nPTB2kzh6w8nDzGg0oHS84ZfVOskEZUXjAbx2dcVhwqEZ3_ofpn-lM7QlZaYn5fP0q-bqfXxWmfgA3niEWNj3gwrzSLyTLKIMhpSkSJD_zenplz12DgqathMhR5iD2hX-6KVusqHvKvYRKaWF7qvsIDFZgc1vCyaAgCbhnORw5--xLCDRp7D1V2_QimRQILaTCd9yuT7hPA4QfEZ0L3E3WI6Kc8_HQrf0MjLccL3UO1KBXeKFMMg8HSvQ4Ln-rw94wsh9hcNHaQNsQKvq_55DLGeHD-6AwgU3-bXllT-ZHeLiiIIwy2_Cn0QRmMB8CfhYAv1wHMDTu4hKFvsAmuK2Bku0Gbsspcyeqh2J772soaZspv6PJivRNYqDTbNaipc2CFNLu7r4_PL4trqGuiQtOa-U_gMXkd4u7B3it1tqyaYWHj8BI7sBpz_eiaU0YRXiHRg2fkrDEYw_ACWBH2kUujgSq1vdBUMKrAS5Re0xTK0KxYUqsrmypwIh7qYZXdzH1zzpIbc86oAtk_SxmVm23oE_NUAFE5p0z2DuSAn8cId2qv3l8jaEfgQRoGknMpQqKD22xwITAW5XhXb744vPQcvgtP5zdDhuLh7Npz-UUQ=s64",
      "userId": "16390917540151948122"
     },
     "user_tz": -330
    },
    "id": "BddjT2Fg7VDs",
    "outputId": "09c433e4-260a-4443-a71f-ccb9af7c36b5"
   },
   "outputs": [],
   "source": [
    "from sklearn.linear_model import LogisticRegression\n",
    "classifier = LogisticRegression(random_state = 42)\n",
    "classifier.fit(X_train, y_train)"
   ]
  },
  {
   "cell_type": "markdown",
   "metadata": {
    "id": "iXT0yCoI07X8"
   },
   "source": [
    "## Predicting"
   ]
  },
  {
   "cell_type": "code",
   "execution_count": null,
   "metadata": {
    "colab": {
     "base_uri": "https://localhost:8080/"
    },
    "executionInfo": {
     "elapsed": 1296,
     "status": "ok",
     "timestamp": 1611920324370,
     "user": {
      "displayName": "Atulya Kaushik",
      "photoUrl": "https://lh3.googleusercontent.com/a-/AOh14GgJkgy4Bbyh6arJa9CTRxz_VW016iaBII_pm7woImQLGsFVhFb88slIrgpJtXqRrw6TkLosF9dmZkipTOappiUuEZfqBbADXDON4yRObQtr7MT6aP_VbVd_pun7X1-Kipezf2z4Vuzl6eFdyx9-UPts8n7nPTB2kzh6w8nDzGg0oHS84ZfVOskEZUXjAbx2dcVhwqEZ3_ofpn-lM7QlZaYn5fP0q-bqfXxWmfgA3niEWNj3gwrzSLyTLKIMhpSkSJD_zenplz12DgqathMhR5iD2hX-6KVusqHvKvYRKaWF7qvsIDFZgc1vCyaAgCbhnORw5--xLCDRp7D1V2_QimRQILaTCd9yuT7hPA4QfEZ0L3E3WI6Kc8_HQrf0MjLccL3UO1KBXeKFMMg8HSvQ4Ln-rw94wsh9hcNHaQNsQKvq_55DLGeHD-6AwgU3-bXllT-ZHeLiiIIwy2_Cn0QRmMB8CfhYAv1wHMDTu4hKFvsAmuK2Bku0Gbsspcyeqh2J772soaZspv6PJivRNYqDTbNaipc2CFNLu7r4_PL4trqGuiQtOa-U_gMXkd4u7B3it1tqyaYWHj8BI7sBpz_eiaU0YRXiHRg2fkrDEYw_ACWBH2kUujgSq1vdBUMKrAS5Re0xTK0KxYUqsrmypwIh7qYZXdzH1zzpIbc86oAtk_SxmVm23oE_NUAFE5p0z2DuSAn8cId2qv3l8jaEfgQRoGknMpQqKD22xwITAW5XhXb744vPQcvgtP5zdDhuLh7Npz-UUQ=s64",
      "userId": "16390917540151948122"
     },
     "user_tz": -330
    },
    "id": "mXuUMu3m7kAG",
    "outputId": "14300baa-048a-48a4-da2c-0adb14bee6a2"
   },
   "outputs": [],
   "source": [
    "print(classifier.predict(sc.transform([[54, 41000]])))"
   ]
  },
  {
   "cell_type": "markdown",
   "metadata": {
    "id": "9oG_iJfc1A0K"
   },
   "source": [
    "## Predicting Test set results"
   ]
  },
  {
   "cell_type": "code",
   "execution_count": null,
   "metadata": {
    "colab": {
     "base_uri": "https://localhost:8080/"
    },
    "executionInfo": {
     "elapsed": 1206,
     "status": "ok",
     "timestamp": 1611920487215,
     "user": {
      "displayName": "Atulya Kaushik",
      "photoUrl": "https://lh3.googleusercontent.com/a-/AOh14GgJkgy4Bbyh6arJa9CTRxz_VW016iaBII_pm7woImQLGsFVhFb88slIrgpJtXqRrw6TkLosF9dmZkipTOappiUuEZfqBbADXDON4yRObQtr7MT6aP_VbVd_pun7X1-Kipezf2z4Vuzl6eFdyx9-UPts8n7nPTB2kzh6w8nDzGg0oHS84ZfVOskEZUXjAbx2dcVhwqEZ3_ofpn-lM7QlZaYn5fP0q-bqfXxWmfgA3niEWNj3gwrzSLyTLKIMhpSkSJD_zenplz12DgqathMhR5iD2hX-6KVusqHvKvYRKaWF7qvsIDFZgc1vCyaAgCbhnORw5--xLCDRp7D1V2_QimRQILaTCd9yuT7hPA4QfEZ0L3E3WI6Kc8_HQrf0MjLccL3UO1KBXeKFMMg8HSvQ4Ln-rw94wsh9hcNHaQNsQKvq_55DLGeHD-6AwgU3-bXllT-ZHeLiiIIwy2_Cn0QRmMB8CfhYAv1wHMDTu4hKFvsAmuK2Bku0Gbsspcyeqh2J772soaZspv6PJivRNYqDTbNaipc2CFNLu7r4_PL4trqGuiQtOa-U_gMXkd4u7B3it1tqyaYWHj8BI7sBpz_eiaU0YRXiHRg2fkrDEYw_ACWBH2kUujgSq1vdBUMKrAS5Re0xTK0KxYUqsrmypwIh7qYZXdzH1zzpIbc86oAtk_SxmVm23oE_NUAFE5p0z2DuSAn8cId2qv3l8jaEfgQRoGknMpQqKD22xwITAW5XhXb744vPQcvgtP5zdDhuLh7Npz-UUQ=s64",
      "userId": "16390917540151948122"
     },
     "user_tz": -330
    },
    "id": "j354SNEs8I0b",
    "outputId": "c28d0eb0-0424-4c04-ce9c-774aed780aa5"
   },
   "outputs": [],
   "source": [
    "y_pred = classifier.predict(X_test)\n",
    "print(np.concatenate((y_pred.reshape(len(y_pred), 1), y_test.reshape(len(y_test), 1)),1))"
   ]
  },
  {
   "cell_type": "markdown",
   "metadata": {
    "id": "p6I0bJj_1Fxl"
   },
   "source": [
    "## Confusion Matrix"
   ]
  },
  {
   "cell_type": "code",
   "execution_count": null,
   "metadata": {
    "colab": {
     "base_uri": "https://localhost:8080/"
    },
    "executionInfo": {
     "elapsed": 1102,
     "status": "ok",
     "timestamp": 1611920678002,
     "user": {
      "displayName": "Atulya Kaushik",
      "photoUrl": "https://lh3.googleusercontent.com/a-/AOh14GgJkgy4Bbyh6arJa9CTRxz_VW016iaBII_pm7woImQLGsFVhFb88slIrgpJtXqRrw6TkLosF9dmZkipTOappiUuEZfqBbADXDON4yRObQtr7MT6aP_VbVd_pun7X1-Kipezf2z4Vuzl6eFdyx9-UPts8n7nPTB2kzh6w8nDzGg0oHS84ZfVOskEZUXjAbx2dcVhwqEZ3_ofpn-lM7QlZaYn5fP0q-bqfXxWmfgA3niEWNj3gwrzSLyTLKIMhpSkSJD_zenplz12DgqathMhR5iD2hX-6KVusqHvKvYRKaWF7qvsIDFZgc1vCyaAgCbhnORw5--xLCDRp7D1V2_QimRQILaTCd9yuT7hPA4QfEZ0L3E3WI6Kc8_HQrf0MjLccL3UO1KBXeKFMMg8HSvQ4Ln-rw94wsh9hcNHaQNsQKvq_55DLGeHD-6AwgU3-bXllT-ZHeLiiIIwy2_Cn0QRmMB8CfhYAv1wHMDTu4hKFvsAmuK2Bku0Gbsspcyeqh2J772soaZspv6PJivRNYqDTbNaipc2CFNLu7r4_PL4trqGuiQtOa-U_gMXkd4u7B3it1tqyaYWHj8BI7sBpz_eiaU0YRXiHRg2fkrDEYw_ACWBH2kUujgSq1vdBUMKrAS5Re0xTK0KxYUqsrmypwIh7qYZXdzH1zzpIbc86oAtk_SxmVm23oE_NUAFE5p0z2DuSAn8cId2qv3l8jaEfgQRoGknMpQqKD22xwITAW5XhXb744vPQcvgtP5zdDhuLh7Npz-UUQ=s64",
      "userId": "16390917540151948122"
     },
     "user_tz": -330
    },
    "id": "QtGX0R4w82oy",
    "outputId": "3da60575-5f74-47ea-e7ab-d604a8314e23"
   },
   "outputs": [],
   "source": [
    "from sklearn.metrics import confusion_matrix, accuracy_score\n",
    "cm = confusion_matrix(y_test, y_pred)\n",
    "print(cm)\n",
    "accuracy_score(y_test, y_pred)"
   ]
  },
  {
   "cell_type": "markdown",
   "metadata": {
    "id": "SO86fovR1MKy"
   },
   "source": [
    "## Visualizing Test Set results"
   ]
  },
  {
   "cell_type": "code",
   "execution_count": null,
   "metadata": {
    "colab": {
     "base_uri": "https://localhost:8080/",
     "height": 351
    },
    "executionInfo": {
     "elapsed": 10383,
     "status": "ok",
     "timestamp": 1611920722340,
     "user": {
      "displayName": "Atulya Kaushik",
      "photoUrl": "https://lh3.googleusercontent.com/a-/AOh14GgJkgy4Bbyh6arJa9CTRxz_VW016iaBII_pm7woImQLGsFVhFb88slIrgpJtXqRrw6TkLosF9dmZkipTOappiUuEZfqBbADXDON4yRObQtr7MT6aP_VbVd_pun7X1-Kipezf2z4Vuzl6eFdyx9-UPts8n7nPTB2kzh6w8nDzGg0oHS84ZfVOskEZUXjAbx2dcVhwqEZ3_ofpn-lM7QlZaYn5fP0q-bqfXxWmfgA3niEWNj3gwrzSLyTLKIMhpSkSJD_zenplz12DgqathMhR5iD2hX-6KVusqHvKvYRKaWF7qvsIDFZgc1vCyaAgCbhnORw5--xLCDRp7D1V2_QimRQILaTCd9yuT7hPA4QfEZ0L3E3WI6Kc8_HQrf0MjLccL3UO1KBXeKFMMg8HSvQ4Ln-rw94wsh9hcNHaQNsQKvq_55DLGeHD-6AwgU3-bXllT-ZHeLiiIIwy2_Cn0QRmMB8CfhYAv1wHMDTu4hKFvsAmuK2Bku0Gbsspcyeqh2J772soaZspv6PJivRNYqDTbNaipc2CFNLu7r4_PL4trqGuiQtOa-U_gMXkd4u7B3it1tqyaYWHj8BI7sBpz_eiaU0YRXiHRg2fkrDEYw_ACWBH2kUujgSq1vdBUMKrAS5Re0xTK0KxYUqsrmypwIh7qYZXdzH1zzpIbc86oAtk_SxmVm23oE_NUAFE5p0z2DuSAn8cId2qv3l8jaEfgQRoGknMpQqKD22xwITAW5XhXb744vPQcvgtP5zdDhuLh7Npz-UUQ=s64",
      "userId": "16390917540151948122"
     },
     "user_tz": -330
    },
    "id": "M_4led745262",
    "outputId": "0a244785-1edb-48c6-9258-2777ec7cd32b"
   },
   "outputs": [],
   "source": [
    "from matplotlib.colors import ListedColormap\n",
    "X_set, y_set = sc.inverse_transform(X_train), y_train\n",
    "X1, X2 = np.meshgrid(np.arange(start = X_set[:, 0].min() - 10, stop = X_set[:, 0].max() + 10, step = 0.25),\n",
    "                     np.arange(start = X_set[:, 1].min() - 1000, stop = X_set[:, 1].max() + 1000, step = 0.25))\n",
    "plt.contourf(X1, X2, classifier.predict(sc.transform(np.array([X1.ravel(), X2.ravel()]).T)).reshape(X1.shape),\n",
    "             alpha = 0.75, cmap = ListedColormap(('red', 'green')))\n",
    "plt.xlim(X1.min(), X1.max())\n",
    "plt.ylim(X2.min(), X2.max())\n",
    "for i, j in enumerate(np.unique(y_set)):\n",
    "    plt.scatter(X_set[y_set == j, 0], X_set[y_set == j, 1], c = ListedColormap(('red', 'green'))(i), label = j)\n",
    "plt.title('Logistic Regression (Training set)')\n",
    "plt.xlabel('Age')\n",
    "plt.ylabel('Estimated Salary')\n",
    "plt.legend()\n",
    "plt.show()"
   ]
  },
  {
   "cell_type": "markdown",
   "metadata": {
    "id": "MokDuSCS1J0n"
   },
   "source": [
    "## Visualising Training set results"
   ]
  },
  {
   "cell_type": "code",
   "execution_count": null,
   "metadata": {
    "colab": {
     "base_uri": "https://localhost:8080/",
     "height": 351
    },
    "executionInfo": {
     "elapsed": 6230,
     "status": "ok",
     "timestamp": 1611920826091,
     "user": {
      "displayName": "Atulya Kaushik",
      "photoUrl": "https://lh3.googleusercontent.com/a-/AOh14GgJkgy4Bbyh6arJa9CTRxz_VW016iaBII_pm7woImQLGsFVhFb88slIrgpJtXqRrw6TkLosF9dmZkipTOappiUuEZfqBbADXDON4yRObQtr7MT6aP_VbVd_pun7X1-Kipezf2z4Vuzl6eFdyx9-UPts8n7nPTB2kzh6w8nDzGg0oHS84ZfVOskEZUXjAbx2dcVhwqEZ3_ofpn-lM7QlZaYn5fP0q-bqfXxWmfgA3niEWNj3gwrzSLyTLKIMhpSkSJD_zenplz12DgqathMhR5iD2hX-6KVusqHvKvYRKaWF7qvsIDFZgc1vCyaAgCbhnORw5--xLCDRp7D1V2_QimRQILaTCd9yuT7hPA4QfEZ0L3E3WI6Kc8_HQrf0MjLccL3UO1KBXeKFMMg8HSvQ4Ln-rw94wsh9hcNHaQNsQKvq_55DLGeHD-6AwgU3-bXllT-ZHeLiiIIwy2_Cn0QRmMB8CfhYAv1wHMDTu4hKFvsAmuK2Bku0Gbsspcyeqh2J772soaZspv6PJivRNYqDTbNaipc2CFNLu7r4_PL4trqGuiQtOa-U_gMXkd4u7B3it1tqyaYWHj8BI7sBpz_eiaU0YRXiHRg2fkrDEYw_ACWBH2kUujgSq1vdBUMKrAS5Re0xTK0KxYUqsrmypwIh7qYZXdzH1zzpIbc86oAtk_SxmVm23oE_NUAFE5p0z2DuSAn8cId2qv3l8jaEfgQRoGknMpQqKD22xwITAW5XhXb744vPQcvgtP5zdDhuLh7Npz-UUQ=s64",
      "userId": "16390917540151948122"
     },
     "user_tz": -330
    },
    "id": "MPGoDPk-53md",
    "outputId": "bba35411-db89-400a-c669-f3578041f26a"
   },
   "outputs": [],
   "source": [
    "from matplotlib.colors import ListedColormap\n",
    "X_set, y_set = sc.inverse_transform(X_test), y_test\n",
    "X1, X2 = np.meshgrid(np.arange(start = X_set[:, 0].min() - 10, stop = X_set[:, 0].max() + 10, step = 0.25),\n",
    "                     np.arange(start = X_set[:, 1].min() - 1000, stop = X_set[:, 1].max() + 1000, step = 0.25))\n",
    "plt.contourf(X1, X2, classifier.predict(sc.transform(np.array([X1.ravel(), X2.ravel()]).T)).reshape(X1.shape),\n",
    "             alpha = 0.75, cmap = ListedColormap(('red', 'green')))\n",
    "plt.xlim(X1.min(), X1.max())\n",
    "plt.ylim(X2.min(), X2.max())\n",
    "for i, j in enumerate(np.unique(y_set)):\n",
    "    plt.scatter(X_set[y_set == j, 0], X_set[y_set == j, 1], c = ListedColormap(('red', 'green'))(i), label = j)\n",
    "plt.title('Logistic Regression (Test set)')\n",
    "plt.xlabel('Age')\n",
    "plt.ylabel('Estimated Salary')\n",
    "plt.legend()\n",
    "plt.show()"
   ]
  },
  {
   "cell_type": "code",
   "execution_count": null,
   "metadata": {},
   "outputs": [],
   "source": []
  },
  {
   "cell_type": "code",
   "execution_count": null,
   "metadata": {},
   "outputs": [],
   "source": []
  }
 ],
 "metadata": {
  "colab": {
   "authorship_tag": "ABX9TyPI1Mjt/a6fh1ZN7AkHX2Fl",
   "name": "Logistic Regression Classification Working Copy.ipynb",
   "provenance": [],
   "toc_visible": true
  },
  "kernelspec": {
   "display_name": "Python 3 (ipykernel)",
   "language": "python",
   "name": "python3"
  },
  "language_info": {
   "codemirror_mode": {
    "name": "ipython",
    "version": 3
   },
   "file_extension": ".py",
   "mimetype": "text/x-python",
   "name": "python",
   "nbconvert_exporter": "python",
   "pygments_lexer": "ipython3",
   "version": "3.10.6"
  }
 },
 "nbformat": 4,
 "nbformat_minor": 1
}
